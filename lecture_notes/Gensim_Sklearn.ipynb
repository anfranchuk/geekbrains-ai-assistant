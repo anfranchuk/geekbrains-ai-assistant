{
 "cells": [
  {
   "cell_type": "code",
   "execution_count": 1,
   "id": "initial_id",
   "metadata": {
    "collapsed": true,
    "ExecuteTime": {
     "end_time": "2023-11-23T14:42:00.198770Z",
     "start_time": "2023-11-23T14:42:00.051070Z"
    }
   },
   "outputs": [
    {
     "ename": "ModuleNotFoundError",
     "evalue": "No module named 'gensim'",
     "output_type": "error",
     "traceback": [
      "\u001B[0;31m---------------------------------------------------------------------------\u001B[0m",
      "\u001B[0;31mModuleNotFoundError\u001B[0m                       Traceback (most recent call last)",
      "Cell \u001B[0;32mIn[1], line 1\u001B[0m\n\u001B[0;32m----> 1\u001B[0m \u001B[38;5;28;01mfrom\u001B[39;00m \u001B[38;5;21;01mgensim\u001B[39;00m \u001B[38;5;28;01mimport\u001B[39;00m corpora, models\n\u001B[1;32m      2\u001B[0m \u001B[38;5;28;01mfrom\u001B[39;00m \u001B[38;5;21;01msklearn\u001B[39;00m\u001B[38;5;21;01m.\u001B[39;00m\u001B[38;5;21;01mfeature_extraction\u001B[39;00m\u001B[38;5;21;01m.\u001B[39;00m\u001B[38;5;21;01mtext\u001B[39;00m \u001B[38;5;28;01mimport\u001B[39;00m CountVectorizer\n\u001B[1;32m      4\u001B[0m \u001B[38;5;66;03m# Пример использования Gensim для создания корпуса и модели LDA\u001B[39;00m\n",
      "\u001B[0;31mModuleNotFoundError\u001B[0m: No module named 'gensim'"
     ]
    }
   ],
   "source": [
    "from gensim import corpora, models\n",
    "from sklearn.feature_extraction.text import CountVectorizer\n",
    "\n",
    "# Пример использования Gensim для создания корпуса и модели LDA\n",
    "def gensim_example(documents):\n",
    "    # Создаем словарь из коллекции документов\n",
    "    dictionary = corpora.Dictionary(documents)\n",
    "\n",
    "    # Создаем корпус\n",
    "    corpus = [dictionary.doc2bow(doc) for doc in documents]\n",
    "\n",
    "    # Обучаем модель LDA\n",
    "    lda_model = models.LdaModel(corpus, num_topics=5, id2word=dictionary)\n",
    "\n",
    "    # Выводим топ-слова для каждой темы\n",
    "    for idx, topic in lda_model.print_topics(-1):\n",
    "        print(f'Topic: {idx} \\nWords: {topic}\\n')\n",
    "\n",
    "# Пример использования Scikit-learn для векторизации текста\n",
    "def sklearn_example(documents):\n",
    "    # Создаем экземпляр CountVectorizer\n",
    "    vectorizer = CountVectorizer()\n",
    "\n",
    "    # Преобразуем документы в матрицу признаков\n",
    "    X = vectorizer.fit_transform(documents)\n",
    "\n",
    "    # Выводим список признаков (слов)\n",
    "    feature_names = vectorizer.get_feature_names()\n",
    "    print(feature_names)\n",
    "\n",
    "# Пример вызова функций\n",
    "documents = [\"This is the first document.\",\n",
    "             \"This document is the second document.\",\n",
    "             \"And this is the third one.\",\n",
    "             \"Is this the first document?\"]\n",
    "\n",
    "gensim_example(documents)\n",
    "sklearn_example(documents)"
   ]
  },
  {
   "cell_type": "code",
   "execution_count": null,
   "outputs": [],
   "source": [
    "В этом примере мы импортируем библиотеки Gensim и Scikit-learn. Затем у нас есть две функции: gensim_example и sklearn_example.\n",
    "\n",
    "Функция gensim_example использует Gensim для создания корпуса и обучения модели LDA (Latent Dirichlet Allocation). Мы создаем словарь из коллекции документов, затем преобразуем документы в корпус векторов, и затем обучаем модель LDA на этом корпусе. Мы выводим топ-слова для каждой темы модели LDA.\n",
    "\n",
    "Функция sklearn_example использует Scikit-learn для векторизации текста с помощью CountVectorizer. Мы создаем экземпляр CountVectorizer, преобразуем документы в матрицу признаков, и выводим список признаков (слов).\n",
    "\n",
    "В конце примера мы вызываем обе функции на коллекции документов."
   ],
   "metadata": {
    "collapsed": false
   },
   "id": "31ede08d61177e3f"
  }
 ],
 "metadata": {
  "kernelspec": {
   "display_name": "Python 3",
   "language": "python",
   "name": "python3"
  },
  "language_info": {
   "codemirror_mode": {
    "name": "ipython",
    "version": 2
   },
   "file_extension": ".py",
   "mimetype": "text/x-python",
   "name": "python",
   "nbconvert_exporter": "python",
   "pygments_lexer": "ipython2",
   "version": "2.7.6"
  }
 },
 "nbformat": 4,
 "nbformat_minor": 5
}
