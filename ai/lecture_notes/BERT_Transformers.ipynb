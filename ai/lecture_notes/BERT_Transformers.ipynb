{
 "cells": [
  {
   "cell_type": "code",
   "execution_count": 1,
   "id": "initial_id",
   "metadata": {
    "collapsed": true,
    "ExecuteTime": {
     "end_time": "2023-11-23T14:43:01.636456Z",
     "start_time": "2023-11-23T14:43:01.488736Z"
    }
   },
   "outputs": [
    {
     "ename": "ModuleNotFoundError",
     "evalue": "No module named 'transformers'",
     "output_type": "error",
     "traceback": [
      "\u001B[0;31m---------------------------------------------------------------------------\u001B[0m",
      "\u001B[0;31mModuleNotFoundError\u001B[0m                       Traceback (most recent call last)",
      "Cell \u001B[0;32mIn[1], line 1\u001B[0m\n\u001B[0;32m----> 1\u001B[0m \u001B[38;5;28;01mfrom\u001B[39;00m \u001B[38;5;21;01mtransformers\u001B[39;00m \u001B[38;5;28;01mimport\u001B[39;00m BertTokenizer, BertModel\n\u001B[1;32m      3\u001B[0m \u001B[38;5;66;03m# Загрузка предобученной модели BERT\u001B[39;00m\n\u001B[1;32m      4\u001B[0m model_name \u001B[38;5;241m=\u001B[39m \u001B[38;5;124m'\u001B[39m\u001B[38;5;124mbert-base-uncased\u001B[39m\u001B[38;5;124m'\u001B[39m\n",
      "\u001B[0;31mModuleNotFoundError\u001B[0m: No module named 'transformers'"
     ]
    }
   ],
   "source": [
    "from transformers import BertTokenizer, BertModel\n",
    "\n",
    "# Загрузка предобученной модели BERT\n",
    "model_name = 'bert-base-uncased'\n",
    "tokenizer = BertTokenizer.from_pretrained(model_name)\n",
    "model = BertModel.from_pretrained(model_name)\n",
    "\n",
    "# Текст, который нужно обработать\n",
    "text = \"Привет, как дела?\"\n",
    "\n",
    "# Токенизация текста\n",
    "tokens = tokenizer.encode_plus(text, add_special_tokens=True, return_tensors='pt')\n",
    "\n",
    "# Получение эмбеддингов текста от модели BERT\n",
    "with torch.no_grad():\n",
    "    outputs = model(**tokens)\n",
    "\n",
    "# Первый выход модели содержит эмбеддинги слов текста\n",
    "word_embeddings = outputs[0]\n",
    "\n",
    "# Вывод эмбеддингов слов\n",
    "for i, token in enumerate(tokenizer.convert_ids_to_tokens(tokens['input_ids'][0])):\n",
    "    print(f\"Token: {token}, Embedding: {word_embeddings[0][i]}\")"
   ]
  },
  {
   "cell_type": "code",
   "execution_count": null,
   "outputs": [],
   "source": [
    "В этом примере мы загружаем предобученную модель BERT и токенизируем текст с помощью токенайзера из библиотеки Transformers. Затем мы передаем токены в модель BERT, чтобы получить эмбеддинги слов текста. Наконец, мы выводим эмбеддинги слов на экран.\n",
    "Обратите внимание, что для запуска этого примера вам потребуется установить библиотеку Transformers и импортировать необходимые модули."
   ],
   "metadata": {
    "collapsed": false
   },
   "id": "1062e2dd3d89a17"
  }
 ],
 "metadata": {
  "kernelspec": {
   "display_name": "Python 3",
   "language": "python",
   "name": "python3"
  },
  "language_info": {
   "codemirror_mode": {
    "name": "ipython",
    "version": 2
   },
   "file_extension": ".py",
   "mimetype": "text/x-python",
   "name": "python",
   "nbconvert_exporter": "python",
   "pygments_lexer": "ipython2",
   "version": "2.7.6"
  }
 },
 "nbformat": 4,
 "nbformat_minor": 5
}
