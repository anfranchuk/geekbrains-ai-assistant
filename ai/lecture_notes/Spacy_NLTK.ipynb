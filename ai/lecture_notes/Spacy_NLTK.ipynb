{
 "cells": [
  {
   "cell_type": "code",
   "execution_count": 1,
   "id": "initial_id",
   "metadata": {
    "collapsed": true,
    "ExecuteTime": {
     "end_time": "2023-11-23T14:40:44.335731Z",
     "start_time": "2023-11-23T14:40:44.165325Z"
    }
   },
   "outputs": [
    {
     "ename": "ModuleNotFoundError",
     "evalue": "No module named 'spacy'",
     "output_type": "error",
     "traceback": [
      "\u001B[0;31m---------------------------------------------------------------------------\u001B[0m",
      "\u001B[0;31mModuleNotFoundError\u001B[0m                       Traceback (most recent call last)",
      "Cell \u001B[0;32mIn[1], line 1\u001B[0m\n\u001B[0;32m----> 1\u001B[0m \u001B[38;5;28;01mimport\u001B[39;00m \u001B[38;5;21;01mspacy\u001B[39;00m\n\u001B[1;32m      2\u001B[0m \u001B[38;5;28;01mfrom\u001B[39;00m \u001B[38;5;21;01mnltk\u001B[39;00m\u001B[38;5;21;01m.\u001B[39;00m\u001B[38;5;21;01mtokenize\u001B[39;00m \u001B[38;5;28;01mimport\u001B[39;00m word_tokenize\n\u001B[1;32m      3\u001B[0m \u001B[38;5;28;01mfrom\u001B[39;00m \u001B[38;5;21;01mnltk\u001B[39;00m\u001B[38;5;21;01m.\u001B[39;00m\u001B[38;5;21;01mcorpus\u001B[39;00m \u001B[38;5;28;01mimport\u001B[39;00m stopwords\n",
      "\u001B[0;31mModuleNotFoundError\u001B[0m: No module named 'spacy'"
     ]
    }
   ],
   "source": [
    "import spacy\n",
    "from nltk.tokenize import word_tokenize\n",
    "from nltk.corpus import stopwords\n",
    "\n",
    "# Инициализируем Spacy\n",
    "nlp = spacy.load('en_core_web_sm')\n",
    "\n",
    "# Инициализируем NLTK\n",
    "stop_words = set(stopwords.words('english'))\n",
    "\n",
    "# Пример использования Spacy для разбора текста\n",
    "def spacy_example(text):\n",
    "    doc = nlp(text)\n",
    "    for token in doc:\n",
    "        print(token.text, token.pos_, token.dep_)\n",
    "\n",
    "# Пример использования NLTK для токенизации и удаления стоп-слов\n",
    "def nltk_example(text):\n",
    "    tokens = word_tokenize(text)\n",
    "    filtered_tokens = [token for token in tokens if token.lower() not in stop_words]\n",
    "    print(filtered_tokens)\n",
    "\n",
    "# Пример вызова функций\n",
    "text = \"This is an example sentence.\"\n",
    "spacy_example(text)\n",
    "nltk_example(text)"
   ]
  },
  {
   "cell_type": "code",
   "execution_count": null,
   "outputs": [],
   "source": [],
   "metadata": {
    "collapsed": false,
    "ExecuteTime": {
     "end_time": "2023-11-23T14:40:44.340143Z",
     "start_time": "2023-11-23T14:40:44.337762Z"
    }
   },
   "id": "d112b776f7185e1b"
  },
  {
   "cell_type": "code",
   "execution_count": null,
   "outputs": [],
   "source": [
    "\n",
    "\"В этом примере мы импортируем библиотеки Spacy и NLTK. Затем мы инициализируем Spacy, загружая модель en_core_web_sm, и инициализируем NLTK, загружая список стоп-слов на английском языке.\n",
    "\n",
    "Затем у нас есть две функции: spacy_example и nltk_example. Функция spacy_example использует Spacy для разбора текста и выводит каждый токен с его частью речи и зависимостью. Функция nltk_example использует NLTK для токенизации текста и удаления стоп-слов.\n",
    "\n",
    "В конце примера мы вызываем обе функции на примере предложения This is an example sentence.\""
   ],
   "metadata": {
    "collapsed": false
   },
   "id": "b0f436544032be3b"
  }
 ],
 "metadata": {
  "kernelspec": {
   "display_name": "Python 3",
   "language": "python",
   "name": "python3"
  },
  "language_info": {
   "codemirror_mode": {
    "name": "ipython",
    "version": 2
   },
   "file_extension": ".py",
   "mimetype": "text/x-python",
   "name": "python",
   "nbconvert_exporter": "python",
   "pygments_lexer": "ipython2",
   "version": "2.7.6"
  }
 },
 "nbformat": 4,
 "nbformat_minor": 5
}
